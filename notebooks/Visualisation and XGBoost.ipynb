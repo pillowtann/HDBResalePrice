{
 "cells": [
  {
   "cell_type": "code",
   "execution_count": 45,
   "metadata": {},
   "outputs": [],
   "source": [
    "import numpy as np\n",
    "import pandas as pd\n",
    "import seaborn as sns\n",
    "from matplotlib import pyplot\n",
    "%matplotlib inline\n",
    "\n",
    "from sklearn.model_selection import train_test_split\n",
    "from sklearn.metrics import mean_squared_error\n",
    "import xgboost as xgb"
   ]
  },
  {
   "cell_type": "code",
   "execution_count": 2,
   "metadata": {},
   "outputs": [],
   "source": [
    "train = pd.read_csv('train_df_fe_all.csv')"
   ]
  },
  {
   "cell_type": "markdown",
   "metadata": {},
   "source": [
    "# Some feature Visualizations"
   ]
  },
  {
   "cell_type": "markdown",
   "metadata": {},
   "source": [
    "## Storey_range"
   ]
  },
  {
   "cell_type": "code",
   "execution_count": null,
   "metadata": {},
   "outputs": [],
   "source": [
    "a4_dims = (8, 8)\n",
    "fig, ax = pyplot.subplots(figsize=a4_dims)\n",
    "train.groupby('storey_range').size().plot(kind='pie', autopct='%.2f')\n",
    "ax.set_title('Pie Chart of storey_range')"
   ]
  },
  {
   "cell_type": "code",
   "execution_count": null,
   "metadata": {},
   "outputs": [],
   "source": [
    "a4_dims = (8, 8)\n",
    "fig, ax = pyplot.subplots(figsize=a4_dims)\n",
    "ax = sns.boxplot(x=\"storey_range\", y=\"resale_price\", data=train)\n",
    "ax.set_title('resale_price by storey_range')"
   ]
  },
  {
   "cell_type": "markdown",
   "metadata": {},
   "source": [
    "## Floor area (size)"
   ]
  },
  {
   "cell_type": "code",
   "execution_count": null,
   "metadata": {},
   "outputs": [],
   "source": [
    "train1 = train.sample(frac=0.01, replace=False, random_state=1)\n",
    "\n",
    "a4_dims = (8, 8)\n",
    "fig, ax = pyplot.subplots(figsize=a4_dims)\n",
    "plt.scatter(train1.floor_area_sqm,train1.resale_price)\n",
    "ax.set_title('resale_price by size')\n",
    "plt.xlabel('size in sqm')\n",
    "plt.ylabel('resale_price')"
   ]
  },
  {
   "cell_type": "markdown",
   "metadata": {},
   "source": [
    "## Flat age"
   ]
  },
  {
   "cell_type": "code",
   "execution_count": null,
   "metadata": {},
   "outputs": [],
   "source": [
    "a4_dims = (8, 8)\n",
    "fig, ax = pyplot.subplots(figsize=a4_dims)\n",
    "plt.scatter(train1.age_at_sales,train1.resale_price)\n",
    "ax.set_title('resale_price by age')\n",
    "plt.xlabel('age of flat at sales')\n",
    "plt.ylabel('resale_price')"
   ]
  },
  {
   "cell_type": "markdown",
   "metadata": {},
   "source": [
    "## Flat Type"
   ]
  },
  {
   "cell_type": "code",
   "execution_count": null,
   "metadata": {},
   "outputs": [],
   "source": [
    "a4_dims = (9, 9)\n",
    "fig, ax = pyplot.subplots(figsize=a4_dims)\n",
    "train.groupby('flat_type').size().plot(kind='pie', autopct='%.2f')\n",
    "ax.set_title('Pie Chart of flat_type')"
   ]
  },
  {
   "cell_type": "code",
   "execution_count": null,
   "metadata": {},
   "outputs": [],
   "source": [
    "a4_dims = (8, 8)\n",
    "fig, ax = pyplot.subplots(figsize=a4_dims)\n",
    "ax = sns.boxplot(x=\"flat_type\", y=\"resale_price\", data=train)\n",
    "ax.set_title('resale_price by flat_type')"
   ]
  },
  {
   "cell_type": "markdown",
   "metadata": {},
   "source": [
    "## Flat model"
   ]
  },
  {
   "cell_type": "code",
   "execution_count": null,
   "metadata": {},
   "outputs": [],
   "source": [
    "a4_dims = (12, 9)\n",
    "fig, ax = pyplot.subplots(figsize=a4_dims)\n",
    "ax = sns.boxplot(x=\"flat_model\", y=\"resale_price\", data=train)\n",
    "ax.set_title('resale_price by flat_model')\n",
    "ax.set_xticklabels(ax.get_xticklabels(),rotation = 50)"
   ]
  },
  {
   "cell_type": "markdown",
   "metadata": {},
   "source": [
    "## Block"
   ]
  },
  {
   "cell_type": "code",
   "execution_count": null,
   "metadata": {},
   "outputs": [],
   "source": [
    "a4_dims = (8, 8)\n",
    "fig, ax = pyplot.subplots(figsize=a4_dims)\n",
    "train.groupby('block').size().plot(kind='pie', autopct='%.2f')\n",
    "ax.set_title('Pie Chart of blocks with number \"4\"')"
   ]
  },
  {
   "cell_type": "markdown",
   "metadata": {},
   "source": [
    "## Region"
   ]
  },
  {
   "cell_type": "code",
   "execution_count": null,
   "metadata": {},
   "outputs": [],
   "source": [
    "a4_dims = (8, 8)\n",
    "fig, ax = pyplot.subplots(figsize=a4_dims)\n",
    "ax = sns.boxplot(x=\"region\", y=\"resale_price\", data=train)\n",
    "ax.set_title('resale_price by region')"
   ]
  },
  {
   "cell_type": "markdown",
   "metadata": {},
   "source": [
    "## Planning area"
   ]
  },
  {
   "cell_type": "code",
   "execution_count": null,
   "metadata": {},
   "outputs": [],
   "source": [
    "a4_dims = (12, 9)\n",
    "fig, ax = pyplot.subplots(figsize=a4_dims)\n",
    "ax = sns.boxplot(x=\"planning_area\", y=\"resale_price\", data=train)\n",
    "ax.set_title('resale_price by planning_area')\n",
    "ax.set_xticklabels(ax.get_xticklabels(),rotation = 50)"
   ]
  },
  {
   "cell_type": "code",
   "execution_count": null,
   "metadata": {},
   "outputs": [],
   "source": [
    "cate_cols = [\n",
    "        \"flat_type\",\n",
    "        \"street_name\",\n",
    "        \"storey_range\",\n",
    "        \"flat_model\",\n",
    "        \"subzone\",\n",
    "        \"planning_area\",\n",
    "        \"region\",\n",
    "        \"resale_quarter\",\n",
    "        \"resale_month\"\n",
    "    ]\n",
    "num_cols= [\n",
    "        \"block\",\n",
    "        \"flat_age\",\n",
    "        \"resale_year\",\n",
    "        \"floor_area_sqm\",\n",
    "        \"latitude\",\n",
    "        \"longitude\"\n",
    "    ]\n",
    "aux_cols= [\n",
    "        \"commercial_CBD\",\n",
    "        \"commercial_type_CR\",\n",
    "        \"commercial_type_IEBP\",\n",
    "        \"commercial_type_IEPB\",\n",
    "        \"commercial_type_BN\",\n",
    "        \"commercial_type_IHL\",\n",
    "        \"hawker_ECLFV\",\n",
    "        \"hawker_NFC\",\n",
    "        \"hawker_CRB89\",\n",
    "        \"hawker_OARB51OARFCSM\",\n",
    "        \"hawker_CRB\",\n",
    "        \"hawker_HVMFC\",\n",
    "        \"hawker_BFC\",\n",
    "        \"hawker_CCFC\",\n",
    "        \"hawker_TBM\",\n",
    "        \"hawker_BPHC\",\n",
    "        \"hawker_GMFC\",\n",
    "        \"hawker_YPHC\",\n",
    "        \"hawker_OTH\",\n",
    "        \"hawker_KAHC\",\n",
    "        \"hawker__\",\n",
    "        \"hawker_highrating_\",\n",
    "        \"hawker_established_\",\n",
    "        \"malls_GWC\",\n",
    "        \"malls_IO\",\n",
    "        \"malls_TSMBS\",\n",
    "        \"malls_NAC\",\n",
    "        \"malls_PS\",\n",
    "        \"malls_SC\",\n",
    "        \"malls_OTH\",\n",
    "        \"malls_CA\",\n",
    "        \"malls_JCA\",\n",
    "        \"malls_VivoCity\",\n",
    "        \"malls_JP\",\n",
    "        \"malls__\",\n",
    "        \"malls_ratingsbin_4.1\",\n",
    "        \"malls_ratingsbin_4.3\",\n",
    "        \"malls_ratingsbin_>4.0\",\n",
    "        \"malls_ratingsbin_4.2\",\n",
    "        \"malls_ratingsbin_4.0\",\n",
    "        \"malls_ratingsbin_>=4.5\",\n",
    "        \"malls_ratingsbin_4.4\",\n",
    "        \"malls_established_\",\n",
    "        \"station_type_mrt\",\n",
    "        \"station_type_other\",\n",
    "        \"station_interchange_\",\n",
    "        \"station_EW_\",\n",
    "        \"station_NS_\",\n",
    "        \"station_NE_\",\n",
    "        \"station_CC_\",\n",
    "        \"station_DT_\",\n",
    "        \"prisch_top50_\",\n",
    "        \"prisch_top50_<=1km\",\n",
    "        \"prisch_top50_1to2km\",\n",
    "        \"prisch_top50_2to4km\",\n",
    "        \"demographics_elderly\",\n",
    "        \"demographics_kids\",\n",
    "        \"demographics_middle\",\n",
    "        \"demographics_older\",\n",
    "        \"demographics_youngads\",\n",
    "        \"demographics_youth\",\n",
    "        \"annual_TLF\",\n",
    "        \"annual_TEP\",\n",
    "        \"annual_TUP\",\n",
    "        \"annual_TURC\",\n",
    "        \"annual_RURC\",\n",
    "        \"annual_TP\",\n",
    "        \"annual_AMHIFWPHMECC\",\n",
    "        \"quarterly_GICD\",\n",
    "        \"quarterly_ULCOOE\",\n",
    "        \"quarterly_HPI\",\n",
    "        \"monthly_PLR\",\n",
    "        \"monthly_SDR\",\n",
    "        \"monthly_CPI\"\n",
    "    ]"
   ]
  },
  {
   "cell_type": "code",
   "execution_count": 22,
   "metadata": {},
   "outputs": [
    {
     "data": {
      "text/plain": [
       "(431732, 89)"
      ]
     },
     "execution_count": 22,
     "metadata": {},
     "output_type": "execute_result"
    }
   ],
   "source": [
    "cate = train[cate_cols]\n",
    "num = train[num_cols]\n",
    "aux = train[aux_cols]\n",
    "\n",
    "combined = [cate,num,aux]\n",
    "train_final_all = pd.concat(combined, axis = 1)\n",
    "train_final_all.shape"
   ]
  },
  {
   "cell_type": "code",
   "execution_count": 37,
   "metadata": {},
   "outputs": [],
   "source": [
    "# one hot encoding\n",
    "train_dummies = pd.get_dummies(train_final_all, columns = cate_cols)"
   ]
  },
  {
   "cell_type": "code",
   "execution_count": 42,
   "metadata": {},
   "outputs": [],
   "source": [
    "# y columns\n",
    "train_y_all = train['resale_price']"
   ]
  },
  {
   "cell_type": "code",
   "execution_count": 46,
   "metadata": {},
   "outputs": [],
   "source": [
    "# train-validation split\n",
    "X_train, X_val, y_train, y_val = train_test_split(train_dummies, train_y_all, test_size=0.25, random_state=0)"
   ]
  },
  {
   "cell_type": "markdown",
   "metadata": {},
   "source": [
    "# XGBoost training"
   ]
  },
  {
   "cell_type": "code",
   "execution_count": 55,
   "metadata": {},
   "outputs": [],
   "source": [
    "import re\n",
    "regex = re.compile(r\"\\[|\\]|<\", re.IGNORECASE)\n",
    "X_train.columns = [regex.sub(\"_\", col) if any(x in str(col) for x in set(('[', ']', '<'))) else col for col in X_train.columns.values]\n",
    "X_val.columns = [regex.sub(\"_\", col) if any(x in str(col) for x in set(('[', ']', '<'))) else col for col in X_val.columns.values]"
   ]
  },
  {
   "cell_type": "code",
   "execution_count": 95,
   "metadata": {},
   "outputs": [],
   "source": [
    "xg_reg = xgb.XGBRegressor(objective ='reg:linear', colsample_bytree = 0.5, learning_rate = 0.05,\n",
    "                max_depth = 16, alpha = 0.1, n_estimators = 1000)"
   ]
  },
  {
   "cell_type": "code",
   "execution_count": null,
   "metadata": {},
   "outputs": [
    {
     "name": "stdout",
     "output_type": "stream",
     "text": [
      "[17:24:26] WARNING: ../src/objective/regression_obj.cu:170: reg:linear is now deprecated in favor of reg:squarederror.\n"
     ]
    }
   ],
   "source": [
    "%%time\n",
    "\n",
    "xg_reg.fit(X_train,y_train)\n",
    "\n",
    "preds = xg_reg.predict(X_val)"
   ]
  },
  {
   "cell_type": "code",
   "execution_count": null,
   "metadata": {},
   "outputs": [],
   "source": [
    "rmse = np.sqrt(mean_squared_error(y_val, preds))\n",
    "print(\"RMSE: %f\" % (rmse))"
   ]
  },
  {
   "cell_type": "markdown",
   "metadata": {},
   "source": [
    "# testing"
   ]
  },
  {
   "cell_type": "code",
   "execution_count": 63,
   "metadata": {},
   "outputs": [],
   "source": [
    "test1=pd.read_csv('test_df_fe_all.csv')"
   ]
  },
  {
   "cell_type": "code",
   "execution_count": 65,
   "metadata": {},
   "outputs": [
    {
     "data": {
      "text/plain": [
       "(107934, 89)"
      ]
     },
     "execution_count": 65,
     "metadata": {},
     "output_type": "execute_result"
    }
   ],
   "source": [
    "cate_test = test1[cate_cols]\n",
    "num_test = test1[num_cols]\n",
    "aux_test = test1[aux_cols]\n",
    "\n",
    "combined_test = [cate_test,num_test,aux_test]\n",
    "test_final_all = pd.concat(combined_test, axis = 1)\n",
    "test_final_all.shape"
   ]
  },
  {
   "cell_type": "code",
   "execution_count": 66,
   "metadata": {},
   "outputs": [],
   "source": [
    "# one hot encoding\n",
    "test_dummies = pd.get_dummies(test_final_all, columns = cate_cols)"
   ]
  },
  {
   "cell_type": "code",
   "execution_count": null,
   "metadata": {},
   "outputs": [],
   "source": [
    "training_columns_names = X_train.columns.tolist()\n",
    "test_columns_names = test_dummies.columns.tolist()\n",
    "\n",
    "# features not in the test columns\n",
    "not_in = [x for x in training_columns_names if x not in test_columns_names]\n",
    "not_in"
   ]
  },
  {
   "cell_type": "code",
   "execution_count": 77,
   "metadata": {},
   "outputs": [
    {
     "data": {
      "text/plain": [
       "(107934, 1428)"
      ]
     },
     "execution_count": 77,
     "metadata": {},
     "output_type": "execute_result"
    }
   ],
   "source": [
    "dict_test = {}\n",
    "for i in range(11):\n",
    "    value = not_in[i]\n",
    "    dict_test[i] = value\n",
    "\n",
    "zero_test = np.zeros((test_dummies.shape[0],11))\n",
    "zero_test_pd = pd.DataFrame(zero_test)\n",
    "zero_test_pd.rename(columns = dict_test, inplace = True)\n",
    "test_final_all_all = pd.concat([test_dummies,zero_test_pd],axis=1)\n",
    "test_final_all_all.shape\n",
    "test_dummies.columns = [regex.sub(\"_\", col) if any(x in str(col) for x in set(('[', ']', '<'))) else col for col in test_dummies.columns.values]"
   ]
  },
  {
   "cell_type": "code",
   "execution_count": 80,
   "metadata": {},
   "outputs": [],
   "source": [
    "te = test_final_all_all[X_train.columns.tolist()]\n",
    "preds_test = xg_reg.predict(te)\n",
    "pr= pd.DataFrame(preds_test)\n",
    "pr.to_csv(\"pr.csv\",index=False)"
   ]
  }
 ],
 "metadata": {
  "kernelspec": {
   "display_name": "Python 3",
   "language": "python",
   "name": "python3"
  },
  "language_info": {
   "codemirror_mode": {
    "name": "ipython",
    "version": 3
   },
   "file_extension": ".py",
   "mimetype": "text/x-python",
   "name": "python",
   "nbconvert_exporter": "python",
   "pygments_lexer": "ipython3",
   "version": "3.8.5"
  }
 },
 "nbformat": 4,
 "nbformat_minor": 4
}
