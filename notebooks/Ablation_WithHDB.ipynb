{
 "cells": [
  {
   "cell_type": "code",
   "execution_count": 21,
   "id": "valid-contents",
   "metadata": {},
   "outputs": [],
   "source": [
    "import pandas as pd\n",
    "import numpy as np\n",
    "import os, re\n",
    "import warnings\n",
    "warnings.filterwarnings('ignore')\n",
    "from dateutil.relativedelta import relativedelta\n",
    "\n",
    "from pandas.api.types import is_string_dtype\n",
    "from pandas.api.types import is_numeric_dtype\n",
    "import matplotlib.pyplot as plt\n",
    "import seaborn as sns\n",
    "import numpy as np\n",
    "import missingno as msno\n",
    "from collections import Counter\n",
    "from datetime import datetime\n",
    "\n",
    "from sklearn.metrics import mean_squared_error\n",
    "%matplotlib inline"
   ]
  },
  {
   "cell_type": "code",
   "execution_count": 25,
   "id": "human-laundry",
   "metadata": {},
   "outputs": [
    {
     "data": {
      "text/html": [
       "<div>\n",
       "<style scoped>\n",
       "    .dataframe tbody tr th:only-of-type {\n",
       "        vertical-align: middle;\n",
       "    }\n",
       "\n",
       "    .dataframe tbody tr th {\n",
       "        vertical-align: top;\n",
       "    }\n",
       "\n",
       "    .dataframe thead th {\n",
       "        text-align: right;\n",
       "    }\n",
       "</style>\n",
       "<table border=\"1\" class=\"dataframe\">\n",
       "  <thead>\n",
       "    <tr style=\"text-align: right;\">\n",
       "      <th></th>\n",
       "      <th>index</th>\n",
       "      <th>pred</th>\n",
       "    </tr>\n",
       "  </thead>\n",
       "  <tbody>\n",
       "    <tr>\n",
       "      <th>90311</th>\n",
       "      <td>0</td>\n",
       "      <td>234777.203408</td>\n",
       "    </tr>\n",
       "    <tr>\n",
       "      <th>273853</th>\n",
       "      <td>1</td>\n",
       "      <td>422604.080399</td>\n",
       "    </tr>\n",
       "    <tr>\n",
       "      <th>96433</th>\n",
       "      <td>2</td>\n",
       "      <td>361897.716724</td>\n",
       "    </tr>\n",
       "    <tr>\n",
       "      <th>190472</th>\n",
       "      <td>3</td>\n",
       "      <td>148849.375001</td>\n",
       "    </tr>\n",
       "    <tr>\n",
       "      <th>2614</th>\n",
       "      <td>4</td>\n",
       "      <td>317098.251032</td>\n",
       "    </tr>\n",
       "    <tr>\n",
       "      <th>...</th>\n",
       "      <td>...</td>\n",
       "      <td>...</td>\n",
       "    </tr>\n",
       "    <tr>\n",
       "      <th>204863</th>\n",
       "      <td>431727</td>\n",
       "      <td>216892.970341</td>\n",
       "    </tr>\n",
       "    <tr>\n",
       "      <th>18849</th>\n",
       "      <td>431728</td>\n",
       "      <td>391794.226580</td>\n",
       "    </tr>\n",
       "    <tr>\n",
       "      <th>19131</th>\n",
       "      <td>431729</td>\n",
       "      <td>257210.786508</td>\n",
       "    </tr>\n",
       "    <tr>\n",
       "      <th>16464</th>\n",
       "      <td>431730</td>\n",
       "      <td>512921.279517</td>\n",
       "    </tr>\n",
       "    <tr>\n",
       "      <th>130503</th>\n",
       "      <td>431731</td>\n",
       "      <td>169527.042147</td>\n",
       "    </tr>\n",
       "  </tbody>\n",
       "</table>\n",
       "<p>431732 rows × 2 columns</p>\n",
       "</div>"
      ],
      "text/plain": [
       "         index           pred\n",
       "90311        0  234777.203408\n",
       "273853       1  422604.080399\n",
       "96433        2  361897.716724\n",
       "190472       3  148849.375001\n",
       "2614         4  317098.251032\n",
       "...        ...            ...\n",
       "204863  431727  216892.970341\n",
       "18849   431728  391794.226580\n",
       "19131   431729  257210.786508\n",
       "16464   431730  512921.279517\n",
       "130503  431731  169527.042147\n",
       "\n",
       "[431732 rows x 2 columns]"
      ]
     },
     "execution_count": 25,
     "metadata": {},
     "output_type": "execute_result"
    }
   ],
   "source": [
    "orig_pred_train = pd.read_csv(r\"D:\\29 CS5228\\03 Project\\HDBResalePrice\\outs\\lgb\\0407_16497.04867\\pred_train.csv\")\n",
    "orig_pred_test = pd.read_csv(r\"D:\\29 CS5228\\03 Project\\HDBResalePrice\\outs\\lgb\\0407_16497.04867\\pred_test.csv\")\n",
    "orig_pred = pd.concat([orig_pred_train, orig_pred_test], axis=0)\n",
    "orig_pred = orig_pred.sort_values(by='index')\n",
    "\n",
    "train_df = pd.read_csv(r\"D:\\29 CS5228\\03 Project\\HDBResalePrice\\outs\\train_df_fe_all.csv\")\n",
    "sub_pred_train = pd.read_csv(r\"D:\\29 CS5228\\03 Project\\HDBResalePrice\\outs\\lgb\\0407_WithHDB\\pred_train.csv\")\n",
    "sub_pred_test = pd.read_csv(r\"D:\\29 CS5228\\03 Project\\HDBResalePrice\\outs\\lgb\\0407_WithHDB\\pred_test.csv\")\n",
    "sub_pred = pd.concat([sub_pred_train, sub_pred_test], axis=0)\n",
    "sub_pred = sub_pred.sort_values(by='index')\n",
    "sub_pred"
   ]
  },
  {
   "cell_type": "code",
   "execution_count": 26,
   "id": "stupid-village",
   "metadata": {},
   "outputs": [
    {
     "name": "stdout",
     "output_type": "stream",
     "text": [
      "original: 16941.299314719614 vs subsampled: 17352.333136236866 for full sized\n",
      "original: 19061.092782277316 vs subsampled: 19580.454289055684 for sub sized\n"
     ]
    }
   ],
   "source": [
    "# for hdb data with main findings\n",
    "orig_rmse = mean_squared_error(orig_pred['pred'], train_df.loc[orig_pred['index']]['resale_price'], squared=False)\n",
    "sub_rmse = mean_squared_error(sub_pred['pred'], train_df.loc[sub_pred['index']]['resale_price'], squared=False)\n",
    "print(f'original: {orig_rmse} vs subsampled: {sub_rmse} for full sized')\n",
    "\n",
    "sub_ixes = train_df[(train_df['resale_year']>=2008) & (train_df['resale_year']<=2019)].index\n",
    "orig_rmse = mean_squared_error(orig_pred[orig_pred['index'].isin(sub_ixes)]['pred'], train_df.loc[sub_ixes]['resale_price'], squared=False)\n",
    "sub_rmse = mean_squared_error(sub_pred[sub_pred['index'].isin(sub_ixes)]['pred'], train_df.loc[sub_ixes]['resale_price'], squared=False)\n",
    "print(f'original: {orig_rmse} vs subsampled: {sub_rmse} for sub sized')"
   ]
  },
  {
   "cell_type": "code",
   "execution_count": 27,
   "id": "favorite-house",
   "metadata": {},
   "outputs": [
    {
     "data": {
      "text/plain": [
       "216670"
      ]
     },
     "execution_count": 27,
     "metadata": {},
     "output_type": "execute_result"
    }
   ],
   "source": [
    "len(sub_ixes)"
   ]
  },
  {
   "cell_type": "code",
   "execution_count": 4,
   "id": "gross-tamil",
   "metadata": {},
   "outputs": [
    {
     "name": "stdout",
     "output_type": "stream",
     "text": [
      "42115.73604808684 301494.50997434626 1080483.221056197\n",
      "42115.73604808684 301473.75739169866 1080483.221056197\n"
     ]
    },
    {
     "data": {
      "text/html": [
       "<div>\n",
       "<style scoped>\n",
       "    .dataframe tbody tr th:only-of-type {\n",
       "        vertical-align: middle;\n",
       "    }\n",
       "\n",
       "    .dataframe tbody tr th {\n",
       "        vertical-align: top;\n",
       "    }\n",
       "\n",
       "    .dataframe thead th {\n",
       "        text-align: right;\n",
       "    }\n",
       "</style>\n",
       "<table border=\"1\" class=\"dataframe\">\n",
       "  <thead>\n",
       "    <tr style=\"text-align: right;\">\n",
       "      <th></th>\n",
       "      <th>Id</th>\n",
       "      <th>Predicted</th>\n",
       "    </tr>\n",
       "  </thead>\n",
       "  <tbody>\n",
       "    <tr>\n",
       "      <th>0</th>\n",
       "      <td>0</td>\n",
       "      <td>193164.816368</td>\n",
       "    </tr>\n",
       "    <tr>\n",
       "      <th>1</th>\n",
       "      <td>1</td>\n",
       "      <td>301922.681718</td>\n",
       "    </tr>\n",
       "    <tr>\n",
       "      <th>2</th>\n",
       "      <td>2</td>\n",
       "      <td>120992.464692</td>\n",
       "    </tr>\n",
       "    <tr>\n",
       "      <th>3</th>\n",
       "      <td>3</td>\n",
       "      <td>296164.496285</td>\n",
       "    </tr>\n",
       "    <tr>\n",
       "      <th>4</th>\n",
       "      <td>4</td>\n",
       "      <td>319119.716608</td>\n",
       "    </tr>\n",
       "  </tbody>\n",
       "</table>\n",
       "</div>"
      ],
      "text/plain": [
       "   Id      Predicted\n",
       "0   0  193164.816368\n",
       "1   1  301922.681718\n",
       "2   2  120992.464692\n",
       "3   3  296164.496285\n",
       "4   4  319119.716608"
      ]
     },
     "execution_count": 4,
     "metadata": {},
     "output_type": "execute_result"
    }
   ],
   "source": [
    "test_df = pd.read_csv(r\"D:\\29 CS5228\\03 Project\\HDBResalePrice\\outs\\test_df_fe_all.csv\")\n",
    "orig_pred = np.array(pd.read_csv(r\"D:\\29 CS5228\\03 Project\\HDBResalePrice\\outs\\lgb\\0407_16497.04867\\submission.csv\")['Predicted'])\n",
    "sub_pred = np.array(pd.read_csv(r\"D:\\29 CS5228\\03 Project\\HDBResalePrice\\outs\\lgb\\0407_WithHDB\\submission.csv\")['Predicted'])\n",
    "\n",
    "final_ixes = test_df[(test_df['resale_year']>=2008) & (test_df['resale_year']<=2019)].index\n",
    "\n",
    "print(min(orig_pred), np.mean(orig_pred), max(orig_pred))\n",
    "orig_pred[final_ixes] = sub_pred[final_ixes]\n",
    "print(min(orig_pred), np.mean(orig_pred), max(orig_pred))\n",
    "\n",
    "final_pred = pd.read_csv(r\"D:\\29 CS5228\\03 Project\\HDBResalePrice\\outs\\lgb\\0407_16497.04867\\submission.csv\")\n",
    "final_pred['Predicted'] = orig_pred\n",
    "final_pred.to_csv(r\"D:\\29 CS5228\\03 Project\\HDBResalePrice\\outs\\lgb\\0407_WithHDB\\submission_combined.csv\", index=False)\n",
    "final_pred.head()"
   ]
  },
  {
   "cell_type": "markdown",
   "id": "exotic-minute",
   "metadata": {},
   "source": [
    "# WithHDB_WithoutOutliers"
   ]
  },
  {
   "cell_type": "code",
   "execution_count": 30,
   "id": "sitting-terminology",
   "metadata": {},
   "outputs": [
    {
     "name": "stdout",
     "output_type": "stream",
     "text": [
      "original: 18987.256145057607 vs subsampled: 19530.40751962498 for sub sized\n"
     ]
    }
   ],
   "source": [
    "orig_pred_train = pd.read_csv(r\"D:\\29 CS5228\\03 Project\\HDBResalePrice\\outs\\lgb\\0407_16497.04867\\pred_train.csv\")\n",
    "orig_pred_test = pd.read_csv(r\"D:\\29 CS5228\\03 Project\\HDBResalePrice\\outs\\lgb\\0407_16497.04867\\pred_test.csv\")\n",
    "orig_pred = pd.concat([orig_pred_train, orig_pred_test], axis=0)\n",
    "orig_pred = orig_pred.sort_values(by='index')\n",
    "\n",
    "train_df = pd.read_csv(r\"D:\\29 CS5228\\03 Project\\HDBResalePrice\\outs\\train_df_fe_all.csv\")\n",
    "sub_pred_train = pd.read_csv(r\"D:\\29 CS5228\\03 Project\\HDBResalePrice\\outs\\lgb\\0407_WithHDB_WithoutOutliers\\pred_train.csv\")\n",
    "sub_pred_test = pd.read_csv(r\"D:\\29 CS5228\\03 Project\\HDBResalePrice\\outs\\lgb\\0407_WithHDB_WithoutOutliers\\pred_test.csv\")\n",
    "sub_pred = pd.concat([sub_pred_train, sub_pred_test], axis=0)\n",
    "sub_pred = sub_pred.sort_values(by='index')\n",
    "\n",
    "sub_ixes = list(sub_pred['index'])\n",
    "min_floor_area_sqm = min(train_df.loc[sub_ixes]['floor_area_sqm'])\n",
    "max_floor_area_sqm = max(train_df.loc[sub_ixes]['floor_area_sqm'])\n",
    "flat_type_list = list(train_df.loc[sub_ixes]['flat_type'].unique())\n",
    "hdb_ixes = train_df[(train_df['resale_year']>=2008) & (train_df['resale_year']<=2019)].index\n",
    "\n",
    "final_ixes = list(set(sub_ixes) & set(hdb_ixes))\n",
    "orig_rmse = mean_squared_error(orig_pred[orig_pred['index'].isin(final_ixes)]['pred'], train_df.loc[final_ixes]['resale_price'], squared=False)\n",
    "sub_rmse = mean_squared_error(sub_pred[sub_pred['index'].isin(final_ixes)]['pred'], train_df.loc[final_ixes]['resale_price'], squared=False)\n",
    "print(f'original: {orig_rmse} vs subsampled: {sub_rmse} for sub sized')"
   ]
  },
  {
   "cell_type": "code",
   "execution_count": 32,
   "id": "excellent-cassette",
   "metadata": {},
   "outputs": [
    {
     "data": {
      "text/plain": [
       "430096"
      ]
     },
     "execution_count": 32,
     "metadata": {},
     "output_type": "execute_result"
    }
   ],
   "source": [
    "len(sub_pred)"
   ]
  },
  {
   "cell_type": "code",
   "execution_count": 29,
   "id": "sexual-breast",
   "metadata": {},
   "outputs": [
    {
     "data": {
      "text/plain": [
       "215945"
      ]
     },
     "execution_count": 29,
     "metadata": {},
     "output_type": "execute_result"
    }
   ],
   "source": [
    "len(final_ixes)"
   ]
  },
  {
   "cell_type": "code",
   "execution_count": 12,
   "id": "assigned-complex",
   "metadata": {},
   "outputs": [
    {
     "name": "stdout",
     "output_type": "stream",
     "text": [
      "42115.73604808684 301494.50997434626 1080483.221056197\n",
      "42115.73604808684 301480.61494389945 1080483.221056197\n"
     ]
    },
    {
     "data": {
      "text/html": [
       "<div>\n",
       "<style scoped>\n",
       "    .dataframe tbody tr th:only-of-type {\n",
       "        vertical-align: middle;\n",
       "    }\n",
       "\n",
       "    .dataframe tbody tr th {\n",
       "        vertical-align: top;\n",
       "    }\n",
       "\n",
       "    .dataframe thead th {\n",
       "        text-align: right;\n",
       "    }\n",
       "</style>\n",
       "<table border=\"1\" class=\"dataframe\">\n",
       "  <thead>\n",
       "    <tr style=\"text-align: right;\">\n",
       "      <th></th>\n",
       "      <th>Id</th>\n",
       "      <th>Predicted</th>\n",
       "    </tr>\n",
       "  </thead>\n",
       "  <tbody>\n",
       "    <tr>\n",
       "      <th>0</th>\n",
       "      <td>0</td>\n",
       "      <td>193164.816368</td>\n",
       "    </tr>\n",
       "    <tr>\n",
       "      <th>1</th>\n",
       "      <td>1</td>\n",
       "      <td>301922.681718</td>\n",
       "    </tr>\n",
       "    <tr>\n",
       "      <th>2</th>\n",
       "      <td>2</td>\n",
       "      <td>120992.464692</td>\n",
       "    </tr>\n",
       "    <tr>\n",
       "      <th>3</th>\n",
       "      <td>3</td>\n",
       "      <td>305663.779651</td>\n",
       "    </tr>\n",
       "    <tr>\n",
       "      <th>4</th>\n",
       "      <td>4</td>\n",
       "      <td>319119.716608</td>\n",
       "    </tr>\n",
       "  </tbody>\n",
       "</table>\n",
       "</div>"
      ],
      "text/plain": [
       "   Id      Predicted\n",
       "0   0  193164.816368\n",
       "1   1  301922.681718\n",
       "2   2  120992.464692\n",
       "3   3  305663.779651\n",
       "4   4  319119.716608"
      ]
     },
     "execution_count": 12,
     "metadata": {},
     "output_type": "execute_result"
    }
   ],
   "source": [
    "test_df = pd.read_csv(r\"D:\\29 CS5228\\03 Project\\HDBResalePrice\\outs\\test_df_fe_all.csv\")\n",
    "orig_pred = np.array(pd.read_csv(r\"D:\\29 CS5228\\03 Project\\HDBResalePrice\\outs\\lgb\\0407_16497.04867\\submission.csv\")['Predicted'])\n",
    "sub_pred = np.array(pd.read_csv(r\"D:\\29 CS5228\\03 Project\\HDBResalePrice\\outs\\lgb\\0407_WithHDB_WithoutOutliers\\submission.csv\")['Predicted'])\n",
    "\n",
    "sub_ixes = test_df[(test_df['floor_area_sqm']>= min_floor_area_sqm) & \\\n",
    "                    (test_df['floor_area_sqm']<= max_floor_area_sqm) & \\\n",
    "                    (test_df['flat_type'].isin(flat_type_list))\n",
    "                   ].index\n",
    "hdb_ixes = test_df[(test_df['resale_year']>=2008) & (test_df['resale_year']<=2019)].index\n",
    "final_ixes = list(set(sub_ixes) & set(hdb_ixes))\n",
    "\n",
    "print(min(orig_pred), np.mean(orig_pred), max(orig_pred))\n",
    "orig_pred[final_ixes] = sub_pred[final_ixes]\n",
    "print(min(orig_pred), np.mean(orig_pred), max(orig_pred))\n",
    "\n",
    "final_pred = pd.read_csv(r\"D:\\29 CS5228\\03 Project\\HDBResalePrice\\outs\\lgb\\0407_16497.04867\\submission.csv\")\n",
    "final_pred['Predicted'] = orig_pred\n",
    "final_pred.to_csv(r\"D:\\29 CS5228\\03 Project\\HDBResalePrice\\outs\\lgb\\0407_WithHDB_WithoutOutliers\\submission_combined.csv\", index=False)\n",
    "final_pred.head()"
   ]
  },
  {
   "cell_type": "markdown",
   "id": "young-idaho",
   "metadata": {},
   "source": [
    "# COMBINE ALL"
   ]
  },
  {
   "cell_type": "code",
   "execution_count": 24,
   "id": "better-relationship",
   "metadata": {},
   "outputs": [],
   "source": [
    "orig_pred = pd.read_csv(r\"D:\\29 CS5228\\03 Project\\HDBResalePrice\\outs\\lgb\\0407_16497.04867\\submission.csv\")\n",
    "withhdb = pd.read_csv(r\"D:\\29 CS5228\\03 Project\\HDBResalePrice\\outs\\lgb\\0407_WithHDB\\submission.csv\")\n",
    "nooutliers = pd.read_csv(r\"D:\\29 CS5228\\03 Project\\HDBResalePrice\\outs\\lgb\\0407_WithoutOutliers\\submission.csv\")\n",
    "withhdb_nooutliers = pd.read_csv(r\"D:\\29 CS5228\\03 Project\\HDBResalePrice\\outs\\lgb\\0407_WithHDB_WithoutOutliers\\submission_combined.csv\")"
   ]
  },
  {
   "cell_type": "code",
   "execution_count": 25,
   "id": "flying-benjamin",
   "metadata": {},
   "outputs": [
    {
     "data": {
      "text/html": [
       "<div>\n",
       "<style scoped>\n",
       "    .dataframe tbody tr th:only-of-type {\n",
       "        vertical-align: middle;\n",
       "    }\n",
       "\n",
       "    .dataframe tbody tr th {\n",
       "        vertical-align: top;\n",
       "    }\n",
       "\n",
       "    .dataframe thead th {\n",
       "        text-align: right;\n",
       "    }\n",
       "</style>\n",
       "<table border=\"1\" class=\"dataframe\">\n",
       "  <thead>\n",
       "    <tr style=\"text-align: right;\">\n",
       "      <th></th>\n",
       "      <th>Id</th>\n",
       "      <th>Predicted</th>\n",
       "      <th>WithHDB</th>\n",
       "      <th>WithoutOutliers</th>\n",
       "      <th>WithHDB_WithoutOutliers</th>\n",
       "    </tr>\n",
       "  </thead>\n",
       "  <tbody>\n",
       "    <tr>\n",
       "      <th>0</th>\n",
       "      <td>0</td>\n",
       "      <td>193164.816368</td>\n",
       "      <td>194243.552601</td>\n",
       "      <td>193271.844485</td>\n",
       "      <td>193164.816368</td>\n",
       "    </tr>\n",
       "    <tr>\n",
       "      <th>1</th>\n",
       "      <td>1</td>\n",
       "      <td>301922.681718</td>\n",
       "      <td>302489.887830</td>\n",
       "      <td>303758.126289</td>\n",
       "      <td>301922.681718</td>\n",
       "    </tr>\n",
       "    <tr>\n",
       "      <th>2</th>\n",
       "      <td>2</td>\n",
       "      <td>120992.464692</td>\n",
       "      <td>121688.468259</td>\n",
       "      <td>122013.203752</td>\n",
       "      <td>120992.464692</td>\n",
       "    </tr>\n",
       "    <tr>\n",
       "      <th>3</th>\n",
       "      <td>3</td>\n",
       "      <td>304289.111281</td>\n",
       "      <td>296164.496285</td>\n",
       "      <td>309138.697035</td>\n",
       "      <td>305663.779651</td>\n",
       "    </tr>\n",
       "    <tr>\n",
       "      <th>4</th>\n",
       "      <td>4</td>\n",
       "      <td>319119.716608</td>\n",
       "      <td>317206.696489</td>\n",
       "      <td>317562.281750</td>\n",
       "      <td>319119.716608</td>\n",
       "    </tr>\n",
       "  </tbody>\n",
       "</table>\n",
       "</div>"
      ],
      "text/plain": [
       "   Id      Predicted        WithHDB  WithoutOutliers  WithHDB_WithoutOutliers\n",
       "0   0  193164.816368  194243.552601    193271.844485            193164.816368\n",
       "1   1  301922.681718  302489.887830    303758.126289            301922.681718\n",
       "2   2  120992.464692  121688.468259    122013.203752            120992.464692\n",
       "3   3  304289.111281  296164.496285    309138.697035            305663.779651\n",
       "4   4  319119.716608  317206.696489    317562.281750            319119.716608"
      ]
     },
     "execution_count": 25,
     "metadata": {},
     "output_type": "execute_result"
    }
   ],
   "source": [
    "withhdb = withhdb.rename(columns={'Predicted': 'WithHDB'})\n",
    "nooutliers = nooutliers.rename(columns={'Predicted': 'WithoutOutliers'})\n",
    "withhdb_nooutliers = withhdb_nooutliers.rename(columns={'Predicted': 'WithHDB_WithoutOutliers'})\n",
    "\n",
    "for df in [withhdb, nooutliers, withhdb_nooutliers]:\n",
    "    orig_pred = pd.merge(orig_pred, df, how='outer')\n",
    "\n",
    "orig_pred.head()"
   ]
  },
  {
   "cell_type": "code",
   "execution_count": 26,
   "id": "caroline-manchester",
   "metadata": {},
   "outputs": [],
   "source": [
    "orig_pred['Final'] = [\n",
    "    ww2 if ww2!=orig else (\n",
    "        (wout+whdb)/2 if ((wout!=orig) & (whdb!=orig)) else (\n",
    "            wout if wout!=orig else (\n",
    "                whdb if whdb!=orig else orig))) for\\\n",
    "    whdb, wout, ww2, orig in zip(\n",
    "        orig_pred['WithHDB'], orig_pred['WithoutOutliers'], orig_pred['WithHDB_WithoutOutliers'], orig_pred['Predicted'])\n",
    "]"
   ]
  },
  {
   "cell_type": "code",
   "execution_count": 27,
   "id": "damaged-massage",
   "metadata": {},
   "outputs": [
    {
     "data": {
      "text/html": [
       "<div>\n",
       "<style scoped>\n",
       "    .dataframe tbody tr th:only-of-type {\n",
       "        vertical-align: middle;\n",
       "    }\n",
       "\n",
       "    .dataframe tbody tr th {\n",
       "        vertical-align: top;\n",
       "    }\n",
       "\n",
       "    .dataframe thead th {\n",
       "        text-align: right;\n",
       "    }\n",
       "</style>\n",
       "<table border=\"1\" class=\"dataframe\">\n",
       "  <thead>\n",
       "    <tr style=\"text-align: right;\">\n",
       "      <th></th>\n",
       "      <th>Id</th>\n",
       "      <th>Predicted</th>\n",
       "      <th>WithHDB</th>\n",
       "      <th>WithoutOutliers</th>\n",
       "      <th>WithHDB_WithoutOutliers</th>\n",
       "      <th>Final</th>\n",
       "    </tr>\n",
       "  </thead>\n",
       "  <tbody>\n",
       "    <tr>\n",
       "      <th>0</th>\n",
       "      <td>0</td>\n",
       "      <td>193164.816368</td>\n",
       "      <td>194243.552601</td>\n",
       "      <td>193271.844485</td>\n",
       "      <td>193164.816368</td>\n",
       "      <td>193757.698543</td>\n",
       "    </tr>\n",
       "    <tr>\n",
       "      <th>1</th>\n",
       "      <td>1</td>\n",
       "      <td>301922.681718</td>\n",
       "      <td>302489.887830</td>\n",
       "      <td>303758.126289</td>\n",
       "      <td>301922.681718</td>\n",
       "      <td>303124.007060</td>\n",
       "    </tr>\n",
       "    <tr>\n",
       "      <th>2</th>\n",
       "      <td>2</td>\n",
       "      <td>120992.464692</td>\n",
       "      <td>121688.468259</td>\n",
       "      <td>122013.203752</td>\n",
       "      <td>120992.464692</td>\n",
       "      <td>121850.836005</td>\n",
       "    </tr>\n",
       "    <tr>\n",
       "      <th>3</th>\n",
       "      <td>3</td>\n",
       "      <td>304289.111281</td>\n",
       "      <td>296164.496285</td>\n",
       "      <td>309138.697035</td>\n",
       "      <td>305663.779651</td>\n",
       "      <td>305663.779651</td>\n",
       "    </tr>\n",
       "    <tr>\n",
       "      <th>4</th>\n",
       "      <td>4</td>\n",
       "      <td>319119.716608</td>\n",
       "      <td>317206.696489</td>\n",
       "      <td>317562.281750</td>\n",
       "      <td>319119.716608</td>\n",
       "      <td>317384.489120</td>\n",
       "    </tr>\n",
       "  </tbody>\n",
       "</table>\n",
       "</div>"
      ],
      "text/plain": [
       "   Id      Predicted        WithHDB  WithoutOutliers  WithHDB_WithoutOutliers  \\\n",
       "0   0  193164.816368  194243.552601    193271.844485            193164.816368   \n",
       "1   1  301922.681718  302489.887830    303758.126289            301922.681718   \n",
       "2   2  120992.464692  121688.468259    122013.203752            120992.464692   \n",
       "3   3  304289.111281  296164.496285    309138.697035            305663.779651   \n",
       "4   4  319119.716608  317206.696489    317562.281750            319119.716608   \n",
       "\n",
       "           Final  \n",
       "0  193757.698543  \n",
       "1  303124.007060  \n",
       "2  121850.836005  \n",
       "3  305663.779651  \n",
       "4  317384.489120  "
      ]
     },
     "execution_count": 27,
     "metadata": {},
     "output_type": "execute_result"
    }
   ],
   "source": [
    "orig_pred.head()"
   ]
  },
  {
   "cell_type": "code",
   "execution_count": 28,
   "id": "cosmetic-search",
   "metadata": {},
   "outputs": [],
   "source": [
    "orig_pred['Predicted']=orig_pred['Final']\n",
    "orig_pred[['Id', 'Predicted']].to_csv(\n",
    "    r\"D:\\29 CS5228\\03 Project\\HDBResalePrice\\outs\\lgb\\0407_16497.04867\\combined_ALL_submission.csv\", index=False)"
   ]
  },
  {
   "cell_type": "code",
   "execution_count": null,
   "id": "built-credit",
   "metadata": {},
   "outputs": [],
   "source": []
  },
  {
   "cell_type": "code",
   "execution_count": null,
   "id": "aggregate-technique",
   "metadata": {},
   "outputs": [],
   "source": []
  }
 ],
 "metadata": {
  "kernelspec": {
   "display_name": "Python 3",
   "language": "python",
   "name": "python3"
  },
  "language_info": {
   "codemirror_mode": {
    "name": "ipython",
    "version": 3
   },
   "file_extension": ".py",
   "mimetype": "text/x-python",
   "name": "python",
   "nbconvert_exporter": "python",
   "pygments_lexer": "ipython3",
   "version": "3.7.7"
  }
 },
 "nbformat": 4,
 "nbformat_minor": 5
}
