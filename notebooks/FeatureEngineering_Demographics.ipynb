{
 "cells": [
  {
   "cell_type": "code",
   "execution_count": 1,
   "id": "framed-oliver",
   "metadata": {},
   "outputs": [],
   "source": [
    "import pandas as pd\n",
    "import numpy as np\n",
    "import os, re, random\n",
    "import warnings, json\n",
    "warnings.filterwarnings('ignore')\n",
    "from collections import defaultdict\n",
    "\n",
    "# PLEASE change your data folder here manually if you need\n",
    "current_folder = os.path.abspath(os.curdir)\n",
    "root_folder = os.path.dirname(current_folder) \n",
    "data_folder = os.path.join(root_folder,'data')\n",
    "\n",
    "%matplotlib inline\n",
    "\n",
    "def set_seeds(seed):\n",
    "    # for reproducibility\n",
    "    os.environ['PYTHONHASHSEED'] = str(seed)\n",
    "    random.seed(seed)\n",
    "    np.random.seed(seed)\n",
    "    \n",
    "set_seeds(1234)\n"
   ]
  },
  {
   "cell_type": "code",
   "execution_count": 2,
   "id": "collected-quick",
   "metadata": {},
   "outputs": [
    {
     "data": {
      "text/plain": [
       "Index(['month', 'town', 'flat_type', 'block', 'street_name', 'storey_range',\n",
       "       'floor_area_sqm', 'flat_model', 'eco_category', 'lease_commence_date',\n",
       "       'latitude', 'longitude', 'elevation', 'subzone', 'planning_area',\n",
       "       'region', 'resale_price'],\n",
       "      dtype='object')"
      ]
     },
     "execution_count": 2,
     "metadata": {},
     "output_type": "execute_result"
    }
   ],
   "source": [
    "train_df = pd.read_csv(os.path.join(data_folder,'train.csv'))\n",
    "# test_df = pd.read_csv(os.path.join(data_folder,'test.csv'))\n",
    "train_df.columns"
   ]
  },
  {
   "cell_type": "code",
   "execution_count": 3,
   "id": "provincial-security",
   "metadata": {},
   "outputs": [],
   "source": [
    "auxiliary_paths = {\n",
    "    'commercial':'sg-commerical-centres.csv',\n",
    "    'hawker': 'sg-gov-markets-hawker-centres.csv',\n",
    "    'demographics': 'sg-population-demographics.csv',\n",
    "    'prisch': 'sg-primary-schools.csv',\n",
    "    'secsch': 'sg-secondary-schools.csv',\n",
    "    'malls': 'sg-shopping-malls.csv',\n",
    "    'station': 'sg-train-stations.csv'\n",
    "}"
   ]
  },
  {
   "cell_type": "code",
   "execution_count": 4,
   "id": "intermediate-magnet",
   "metadata": {},
   "outputs": [
    {
     "name": "stdout",
     "output_type": "stream",
     "text": [
      "Opening auxiliary data bout \"demographics\"...\n"
     ]
    },
    {
     "data": {
      "text/html": [
       "<div>\n",
       "<style scoped>\n",
       "    .dataframe tbody tr th:only-of-type {\n",
       "        vertical-align: middle;\n",
       "    }\n",
       "\n",
       "    .dataframe tbody tr th {\n",
       "        vertical-align: top;\n",
       "    }\n",
       "\n",
       "    .dataframe thead th {\n",
       "        text-align: right;\n",
       "    }\n",
       "</style>\n",
       "<table border=\"1\" class=\"dataframe\">\n",
       "  <thead>\n",
       "    <tr style=\"text-align: right;\">\n",
       "      <th></th>\n",
       "      <th>plannin_area</th>\n",
       "      <th>subzone</th>\n",
       "      <th>age_group</th>\n",
       "      <th>sex</th>\n",
       "      <th>count</th>\n",
       "    </tr>\n",
       "  </thead>\n",
       "  <tbody>\n",
       "    <tr>\n",
       "      <th>0</th>\n",
       "      <td>ang mo kio</td>\n",
       "      <td>ang mo kio town centre</td>\n",
       "      <td>0-4</td>\n",
       "      <td>m</td>\n",
       "      <td>130</td>\n",
       "    </tr>\n",
       "    <tr>\n",
       "      <th>1</th>\n",
       "      <td>ang mo kio</td>\n",
       "      <td>cheng san</td>\n",
       "      <td>0-4</td>\n",
       "      <td>m</td>\n",
       "      <td>670</td>\n",
       "    </tr>\n",
       "    <tr>\n",
       "      <th>2</th>\n",
       "      <td>ang mo kio</td>\n",
       "      <td>chong boon</td>\n",
       "      <td>0-4</td>\n",
       "      <td>m</td>\n",
       "      <td>460</td>\n",
       "    </tr>\n",
       "    <tr>\n",
       "      <th>3</th>\n",
       "      <td>ang mo kio</td>\n",
       "      <td>kebun bahru</td>\n",
       "      <td>0-4</td>\n",
       "      <td>m</td>\n",
       "      <td>380</td>\n",
       "    </tr>\n",
       "    <tr>\n",
       "      <th>4</th>\n",
       "      <td>ang mo kio</td>\n",
       "      <td>sembawang hills</td>\n",
       "      <td>0-4</td>\n",
       "      <td>m</td>\n",
       "      <td>90</td>\n",
       "    </tr>\n",
       "  </tbody>\n",
       "</table>\n",
       "</div>"
      ],
      "text/plain": [
       "  plannin_area                 subzone age_group sex  count\n",
       "0   ang mo kio  ang mo kio town centre       0-4   m    130\n",
       "1   ang mo kio               cheng san       0-4   m    670\n",
       "2   ang mo kio              chong boon       0-4   m    460\n",
       "3   ang mo kio             kebun bahru       0-4   m    380\n",
       "4   ang mo kio         sembawang hills       0-4   m     90"
      ]
     },
     "execution_count": 4,
     "metadata": {},
     "output_type": "execute_result"
    }
   ],
   "source": [
    "aux = 'demographics'\n",
    "print(f'Opening auxiliary data bout \"{aux}\"...')\n",
    "aux_df = pd.read_csv(os.path.join(os.path.join(data_folder, 'auxiliary-data'), auxiliary_paths[aux]))\n",
    "aux_df.head()"
   ]
  },
  {
   "cell_type": "code",
   "execution_count": 11,
   "id": "following-facing",
   "metadata": {},
   "outputs": [],
   "source": [
    "conv_dict = {\n",
    "    'kids': ['0-4', '5-9', '10-14'],                      # dependents\n",
    "    'youth': ['15-19', '20-24'],                          # students/ part-timers\n",
    "    'youngads': ['25-29', '30-34', '35-39'],              # young families\n",
    "    'middle': ['40-44', '45-49', '50-54'],                # older families\n",
    "    'older': ['55-59', '60-64'],                          # retirees\n",
    "    'elderly': ['65-69', '70-74','75-79', '80-84', '85+'] # older group\n",
    "}"
   ]
  },
  {
   "cell_type": "code",
   "execution_count": 12,
   "id": "logical-reconstruction",
   "metadata": {},
   "outputs": [
    {
     "data": {
      "text/plain": [
       "{'0-4': 'kids',\n",
       " '5-9': 'kids',\n",
       " '10-14': 'kids',\n",
       " '15-19': 'youth',\n",
       " '20-24': 'youth',\n",
       " '25-29': 'youngads',\n",
       " '30-34': 'youngads',\n",
       " '35-39': 'youngads',\n",
       " '40-44': 'middle',\n",
       " '45-49': 'middle',\n",
       " '50-54': 'middle',\n",
       " '55-59': 'older',\n",
       " '60-64': 'older',\n",
       " '65-69': 'elderly',\n",
       " '70-74': 'elderly',\n",
       " '75-79': 'elderly',\n",
       " '80-84': 'elderly',\n",
       " '85+': 'elderly'}"
      ]
     },
     "execution_count": 12,
     "metadata": {},
     "output_type": "execute_result"
    }
   ],
   "source": [
    "rev_dict = {}\n",
    "\n",
    "for k,v in conv_dict.items():\n",
    "    for i in v:\n",
    "        rev_dict[i] = k\n",
    "        \n",
    "rev_dict"
   ]
  },
  {
   "cell_type": "code",
   "execution_count": 13,
   "id": "mobile-central",
   "metadata": {},
   "outputs": [
    {
     "data": {
      "text/html": [
       "<div>\n",
       "<style scoped>\n",
       "    .dataframe tbody tr th:only-of-type {\n",
       "        vertical-align: middle;\n",
       "    }\n",
       "\n",
       "    .dataframe tbody tr th {\n",
       "        vertical-align: top;\n",
       "    }\n",
       "\n",
       "    .dataframe thead th {\n",
       "        text-align: right;\n",
       "    }\n",
       "</style>\n",
       "<table border=\"1\" class=\"dataframe\">\n",
       "  <thead>\n",
       "    <tr style=\"text-align: right;\">\n",
       "      <th></th>\n",
       "      <th>plannin_area</th>\n",
       "      <th>subzone</th>\n",
       "      <th>age_group</th>\n",
       "      <th>sex</th>\n",
       "      <th>count</th>\n",
       "      <th>age_grp</th>\n",
       "    </tr>\n",
       "  </thead>\n",
       "  <tbody>\n",
       "    <tr>\n",
       "      <th>0</th>\n",
       "      <td>ang mo kio</td>\n",
       "      <td>ang mo kio town centre</td>\n",
       "      <td>0-4</td>\n",
       "      <td>m</td>\n",
       "      <td>130</td>\n",
       "      <td>kids</td>\n",
       "    </tr>\n",
       "    <tr>\n",
       "      <th>1</th>\n",
       "      <td>ang mo kio</td>\n",
       "      <td>cheng san</td>\n",
       "      <td>0-4</td>\n",
       "      <td>m</td>\n",
       "      <td>670</td>\n",
       "      <td>kids</td>\n",
       "    </tr>\n",
       "    <tr>\n",
       "      <th>2</th>\n",
       "      <td>ang mo kio</td>\n",
       "      <td>chong boon</td>\n",
       "      <td>0-4</td>\n",
       "      <td>m</td>\n",
       "      <td>460</td>\n",
       "      <td>kids</td>\n",
       "    </tr>\n",
       "    <tr>\n",
       "      <th>3</th>\n",
       "      <td>ang mo kio</td>\n",
       "      <td>kebun bahru</td>\n",
       "      <td>0-4</td>\n",
       "      <td>m</td>\n",
       "      <td>380</td>\n",
       "      <td>kids</td>\n",
       "    </tr>\n",
       "    <tr>\n",
       "      <th>4</th>\n",
       "      <td>ang mo kio</td>\n",
       "      <td>sembawang hills</td>\n",
       "      <td>0-4</td>\n",
       "      <td>m</td>\n",
       "      <td>90</td>\n",
       "      <td>kids</td>\n",
       "    </tr>\n",
       "  </tbody>\n",
       "</table>\n",
       "</div>"
      ],
      "text/plain": [
       "  plannin_area                 subzone age_group sex  count age_grp\n",
       "0   ang mo kio  ang mo kio town centre       0-4   m    130    kids\n",
       "1   ang mo kio               cheng san       0-4   m    670    kids\n",
       "2   ang mo kio              chong boon       0-4   m    460    kids\n",
       "3   ang mo kio             kebun bahru       0-4   m    380    kids\n",
       "4   ang mo kio         sembawang hills       0-4   m     90    kids"
      ]
     },
     "execution_count": 13,
     "metadata": {},
     "output_type": "execute_result"
    }
   ],
   "source": [
    "aux_df['age_grp'] = aux_df['age_group'].apply(lambda x: rev_dict[x])\n",
    "aux_df.head()"
   ]
  },
  {
   "cell_type": "code",
   "execution_count": 22,
   "id": "martial-prayer",
   "metadata": {},
   "outputs": [
    {
     "data": {
      "text/html": [
       "<div>\n",
       "<style scoped>\n",
       "    .dataframe tbody tr th:only-of-type {\n",
       "        vertical-align: middle;\n",
       "    }\n",
       "\n",
       "    .dataframe tbody tr th {\n",
       "        vertical-align: top;\n",
       "    }\n",
       "\n",
       "    .dataframe thead th {\n",
       "        text-align: right;\n",
       "    }\n",
       "</style>\n",
       "<table border=\"1\" class=\"dataframe\">\n",
       "  <thead>\n",
       "    <tr style=\"text-align: right;\">\n",
       "      <th>age_grp</th>\n",
       "      <th>subzone</th>\n",
       "      <th>elderly</th>\n",
       "      <th>kids</th>\n",
       "      <th>middle</th>\n",
       "      <th>older</th>\n",
       "      <th>youngads</th>\n",
       "      <th>youth</th>\n",
       "    </tr>\n",
       "  </thead>\n",
       "  <tbody>\n",
       "    <tr>\n",
       "      <th>0</th>\n",
       "      <td>admiralty</td>\n",
       "      <td>1130.0</td>\n",
       "      <td>3120.0</td>\n",
       "      <td>3500.0</td>\n",
       "      <td>1390.0</td>\n",
       "      <td>3790.0</td>\n",
       "      <td>1480.0</td>\n",
       "    </tr>\n",
       "    <tr>\n",
       "      <th>1</th>\n",
       "      <td>alexandra hill</td>\n",
       "      <td>2990.0</td>\n",
       "      <td>2010.0</td>\n",
       "      <td>3440.0</td>\n",
       "      <td>2450.0</td>\n",
       "      <td>2950.0</td>\n",
       "      <td>1810.0</td>\n",
       "    </tr>\n",
       "    <tr>\n",
       "      <th>2</th>\n",
       "      <td>alexandra north</td>\n",
       "      <td>60.0</td>\n",
       "      <td>190.0</td>\n",
       "      <td>280.0</td>\n",
       "      <td>90.0</td>\n",
       "      <td>280.0</td>\n",
       "      <td>100.0</td>\n",
       "    </tr>\n",
       "    <tr>\n",
       "      <th>3</th>\n",
       "      <td>aljunied</td>\n",
       "      <td>6430.0</td>\n",
       "      <td>5320.0</td>\n",
       "      <td>10160.0</td>\n",
       "      <td>6240.0</td>\n",
       "      <td>8970.0</td>\n",
       "      <td>4580.0</td>\n",
       "    </tr>\n",
       "    <tr>\n",
       "      <th>4</th>\n",
       "      <td>anak bukit</td>\n",
       "      <td>3000.0</td>\n",
       "      <td>3230.0</td>\n",
       "      <td>5130.0</td>\n",
       "      <td>3350.0</td>\n",
       "      <td>4020.0</td>\n",
       "      <td>3280.0</td>\n",
       "    </tr>\n",
       "    <tr>\n",
       "      <th>...</th>\n",
       "      <td>...</td>\n",
       "      <td>...</td>\n",
       "      <td>...</td>\n",
       "      <td>...</td>\n",
       "      <td>...</td>\n",
       "      <td>...</td>\n",
       "      <td>...</td>\n",
       "    </tr>\n",
       "    <tr>\n",
       "      <th>226</th>\n",
       "      <td>yishun south</td>\n",
       "      <td>4200.0</td>\n",
       "      <td>5170.0</td>\n",
       "      <td>9340.0</td>\n",
       "      <td>5940.0</td>\n",
       "      <td>8730.0</td>\n",
       "      <td>5460.0</td>\n",
       "    </tr>\n",
       "    <tr>\n",
       "      <th>227</th>\n",
       "      <td>yishun west</td>\n",
       "      <td>6440.0</td>\n",
       "      <td>7790.0</td>\n",
       "      <td>14360.0</td>\n",
       "      <td>8840.0</td>\n",
       "      <td>13010.0</td>\n",
       "      <td>7450.0</td>\n",
       "    </tr>\n",
       "    <tr>\n",
       "      <th>228</th>\n",
       "      <td>yuhua east</td>\n",
       "      <td>3740.0</td>\n",
       "      <td>3540.0</td>\n",
       "      <td>6270.0</td>\n",
       "      <td>4440.0</td>\n",
       "      <td>6170.0</td>\n",
       "      <td>3320.0</td>\n",
       "    </tr>\n",
       "    <tr>\n",
       "      <th>229</th>\n",
       "      <td>yuhua west</td>\n",
       "      <td>2580.0</td>\n",
       "      <td>2870.0</td>\n",
       "      <td>4870.0</td>\n",
       "      <td>3310.0</td>\n",
       "      <td>4520.0</td>\n",
       "      <td>2760.0</td>\n",
       "    </tr>\n",
       "    <tr>\n",
       "      <th>230</th>\n",
       "      <td>yunnan</td>\n",
       "      <td>5400.0</td>\n",
       "      <td>10980.0</td>\n",
       "      <td>17820.0</td>\n",
       "      <td>9130.0</td>\n",
       "      <td>15510.0</td>\n",
       "      <td>12090.0</td>\n",
       "    </tr>\n",
       "  </tbody>\n",
       "</table>\n",
       "<p>231 rows × 7 columns</p>\n",
       "</div>"
      ],
      "text/plain": [
       "age_grp          subzone  elderly     kids   middle   older  youngads    youth\n",
       "0              admiralty   1130.0   3120.0   3500.0  1390.0    3790.0   1480.0\n",
       "1         alexandra hill   2990.0   2010.0   3440.0  2450.0    2950.0   1810.0\n",
       "2        alexandra north     60.0    190.0    280.0    90.0     280.0    100.0\n",
       "3               aljunied   6430.0   5320.0  10160.0  6240.0    8970.0   4580.0\n",
       "4             anak bukit   3000.0   3230.0   5130.0  3350.0    4020.0   3280.0\n",
       "..                   ...      ...      ...      ...     ...       ...      ...\n",
       "226         yishun south   4200.0   5170.0   9340.0  5940.0    8730.0   5460.0\n",
       "227          yishun west   6440.0   7790.0  14360.0  8840.0   13010.0   7450.0\n",
       "228           yuhua east   3740.0   3540.0   6270.0  4440.0    6170.0   3320.0\n",
       "229           yuhua west   2580.0   2870.0   4870.0  3310.0    4520.0   2760.0\n",
       "230               yunnan   5400.0  10980.0  17820.0  9130.0   15510.0  12090.0\n",
       "\n",
       "[231 rows x 7 columns]"
      ]
     },
     "execution_count": 22,
     "metadata": {},
     "output_type": "execute_result"
    }
   ],
   "source": [
    "_aux_df = aux_df.groupby(['subzone', 'age_grp'])['count'].sum().unstack('age_grp').reset_index()\n",
    "_aux_df"
   ]
  },
  {
   "cell_type": "code",
   "execution_count": 25,
   "id": "addressed-owner",
   "metadata": {},
   "outputs": [
    {
     "data": {
      "text/plain": [
       "0"
      ]
     },
     "execution_count": 25,
     "metadata": {},
     "output_type": "execute_result"
    }
   ],
   "source": [
    "sum(_aux_df.duplicated(subset='subzone'))"
   ]
  },
  {
   "cell_type": "code",
   "execution_count": 28,
   "id": "frequent-change",
   "metadata": {},
   "outputs": [
    {
     "data": {
      "text/plain": [
       "Index(['elderly', 'kids', 'middle', 'older', 'youngads', 'youth'], dtype='object')"
      ]
     },
     "execution_count": 28,
     "metadata": {},
     "output_type": "execute_result"
    }
   ],
   "source": [
    "df_x_aux = pd.merge(train_df, _aux_df, how='left', on='subzone').iloc[:,-6:]\n",
    "df_x_aux.columns = [aux+'_'+i for i in df_x_aux.columns]"
   ]
  },
  {
   "cell_type": "code",
   "execution_count": 30,
   "id": "supreme-leader",
   "metadata": {},
   "outputs": [
    {
     "data": {
      "text/plain": [
       "['demographics_elderly',\n",
       " 'demographics_kids',\n",
       " 'demographics_middle',\n",
       " 'demographics_older',\n",
       " 'demographics_youngads',\n",
       " 'demographics_youth']"
      ]
     },
     "execution_count": 30,
     "metadata": {},
     "output_type": "execute_result"
    }
   ],
   "source": []
  },
  {
   "cell_type": "code",
   "execution_count": null,
   "id": "exact-birthday",
   "metadata": {},
   "outputs": [],
   "source": []
  }
 ],
 "metadata": {
  "kernelspec": {
   "display_name": "Python 3",
   "language": "python",
   "name": "python3"
  },
  "language_info": {
   "codemirror_mode": {
    "name": "ipython",
    "version": 3
   },
   "file_extension": ".py",
   "mimetype": "text/x-python",
   "name": "python",
   "nbconvert_exporter": "python",
   "pygments_lexer": "ipython3",
   "version": "3.7.7"
  }
 },
 "nbformat": 4,
 "nbformat_minor": 5
}
